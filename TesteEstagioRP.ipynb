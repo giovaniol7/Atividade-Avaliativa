{
  "cells": [
    {
      "cell_type": "markdown",
      "metadata": {
        "id": "view-in-github",
        "colab_type": "text"
      },
      "source": [
        "<a href=\"https://colab.research.google.com/github/giovaniol7/Atividade-Avaliativa/blob/master/TesteEstagioRP.ipynb\" target=\"_parent\"><img src=\"https://colab.research.google.com/assets/colab-badge.svg\" alt=\"Open In Colab\"/></a>"
      ]
    },
    {
      "cell_type": "markdown",
      "source": [
        "\n",
        "**1) Dado a sequência de Fibonacci, onde se inicia por 0 e 1 e o próximo valor sempre será a soma dos 2 valores anteriores (exemplo: 0, 1, 1, 2, 3, 5, 8, 13, 21, 34...), escreva um programa na linguagem que desejar onde, informado um número, ele calcule a sequência de Fibonacci e retorne uma mensagem avisando se o número informado pertence ou não a sequência.**\n",
        "\n",
        "IMPORTANTE: Esse número pode ser informado através de qualquer entrada de sua preferência ou pode ser previamente definido no código;"
      ],
      "metadata": {
        "id": "wxYItLlS2IPx"
      }
    },
    {
      "cell_type": "code",
      "source": [
        "def is_fibonacci(num):\n",
        "    a, b = 0, 1\n",
        "    if num == 0 or num == 1:\n",
        "        return True\n",
        "\n",
        "    while b < num:\n",
        "        a, b = b, a + b\n",
        "\n",
        "    return b == num\n",
        "\n",
        "num = int(input(\"Digite um número: \"))\n",
        "\n",
        "if is_fibonacci(num):\n",
        "    print(f\"O número {num} pertence à sequência de Fibonacci.\")\n",
        "else:\n",
        "    print(f\"O número {num} não pertence à sequência de Fibonacci.\")\n"
      ],
      "metadata": {
        "id": "QY1BSCsE13Ch"
      },
      "execution_count": null,
      "outputs": []
    },
    {
      "cell_type": "markdown",
      "source": [
        "**2) Escreva um programa que verifique, em uma string, a existência da letra ‘a’, seja maiúscula ou minúscula, além de informar a quantidade de vezes em que ela ocorre.**\n",
        "\n",
        "IMPORTANTE: Essa string pode ser informada através de qualquer entrada de sua preferência ou pode ser previamente definida no código;"
      ],
      "metadata": {
        "id": "_3gF03MR2JjR"
      }
    },
    {
      "cell_type": "code",
      "source": [
        "def count_a_in_string(s):\n",
        "    count = 0\n",
        "    for char in s:\n",
        "        if char.lower() == 'a':\n",
        "            count += 1\n",
        "    return count\n",
        "\n",
        "string = input(\"Digite uma palavra: \")\n",
        "\n",
        "count = count_a_in_string(string)\n",
        "print(f\"A letra 'a' aparece {count} vezes na palavra.\")\n"
      ],
      "metadata": {
        "id": "FLyx5v5016EI"
      },
      "execution_count": null,
      "outputs": []
    },
    {
      "cell_type": "markdown",
      "source": [
        "**3) Observe o trecho de código abaixo: int INDICE = 12, SOMA = 0, K = 1; enquanto K < INDICE faça { K = K + 1; SOMA = SOMA + K; } imprimir(SOMA);**\n",
        "\n",
        "Ao final do processamento, qual será o valor da variável SOMA?"
      ],
      "metadata": {
        "id": "kzZb-Ne82LaZ"
      }
    },
    {
      "cell_type": "markdown",
      "source": [
        "```\n",
        "INDICE = 12\n",
        "SOMA = 0\n",
        "K = 1\n",
        "\n",
        "while K < INDICE:\n",
        "    K = K + 1\n",
        "    SOMA = SOMA + K\n",
        "```\n",
        "2, 5, 9, 14, 20, 27, 35, 44, 54, 65, 77\n",
        "\n",
        "Resultado final = 77"
      ],
      "metadata": {
        "id": "Bmxz5hLw3lNY"
      }
    },
    {
      "cell_type": "markdown",
      "source": [
        "**4) Descubra a lógica e complete o próximo elemento:**"
      ],
      "metadata": {
        "id": "wFINeeHi2M4R"
      }
    },
    {
      "cell_type": "markdown",
      "source": [
        "a) 9\n",
        "\n",
        "b) 128\n",
        "\n",
        "c) 49\n",
        "\n",
        "d) 100\n",
        "\n",
        "e) 13\n",
        "\n",
        "f) 20"
      ],
      "metadata": {
        "id": "k7xISI5Q1-FI"
      }
    },
    {
      "cell_type": "markdown",
      "source": [
        "**5) Você está em uma sala com três interruptores, cada um conectado a uma lâmpada em salas diferentes. Você não pode ver as lâmpadas da sala em que está, mas pode ligar e desligar os interruptores quantas vezes quiser. Seu objetivo é descobrir qual interruptor controla qual lâmpada. Como você faria para descobrir, usando apenas duas idas até uma das salas das lâmpadas, qual interruptor controla cada lâmpada?**"
      ],
      "metadata": {
        "id": "C-bF33Tq2RJI"
      }
    },
    {
      "cell_type": "markdown",
      "source": [
        "Ligue o primeiro interruptor e aguarde alguns minutos.\n",
        "Desligue o primeiro interruptor, ligue o segundo, e vá até a sala das lâmpadas.\n",
        "A lâmpada que estiver acesa corresponde ao segundo interruptor.\n",
        "A lâmpada que estiver quente e apagada corresponde ao primeiro interruptor.\n",
        "A lâmpada fria e apagada corresponde ao terceiro interruptor.\n",
        "Com isso, você conseguirá identificar qual interruptor controla qual lâmpada."
      ],
      "metadata": {
        "id": "Osb5t-M-2Akw"
      }
    }
  ],
  "metadata": {
    "colab": {
      "name": "Olá, este é o Colaboratory",
      "provenance": [],
      "include_colab_link": true
    },
    "kernelspec": {
      "display_name": "Python 3",
      "name": "python3"
    }
  },
  "nbformat": 4,
  "nbformat_minor": 0
}